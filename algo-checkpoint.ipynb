{
 "cells": [
  {
   "cell_type": "code",
   "execution_count": 1,
   "metadata": {},
   "outputs": [
    {
     "name": "stdout",
     "output_type": "stream",
     "text": [
      "hello\n"
     ]
    }
   ],
   "source": [
    "print(\"hello\")"
   ]
  },
  {
   "cell_type": "code",
   "execution_count": 17,
   "metadata": {},
   "outputs": [
    {
     "data": {
      "text/plain": [
       "<bound method NDFrame.head of                       time     open     high      low    close\n",
       "0     2019-08-02T03:00:00Z  10406.0  10406.5  10363.0  10364.5\n",
       "1     2019-08-02T04:00:00Z  10364.5  10408.5  10361.5  10392.5\n",
       "2     2019-08-02T05:00:00Z  10392.5  10437.5  10382.5  10437.5\n",
       "3     2019-08-02T06:00:00Z  10437.5  10534.0  10437.5  10474.5\n",
       "4     2019-08-02T07:00:00Z  10474.5  10580.0  10473.5  10550.0\n",
       "...                    ...      ...      ...      ...      ...\n",
       "4275  2020-01-27T06:00:00Z   8631.0   8639.0   8617.5   8637.0\n",
       "4276  2020-01-27T07:00:00Z   8637.0   8645.0   8629.5   8640.0\n",
       "4277  2020-01-27T08:00:00Z   8640.0   8640.0   8566.0   8591.0\n",
       "4278  2020-01-27T09:00:00Z   8591.0   8632.5   8576.0   8624.5\n",
       "4279  2020-01-27T10:00:00Z   8624.5   8655.0   8612.5   8623.5\n",
       "\n",
       "[4280 rows x 5 columns]>"
      ]
     },
     "execution_count": 17,
     "metadata": {},
     "output_type": "execute_result"
    }
   ],
   "source": [
    "import pandas as pd\n",
    "data=pd.read_csv(\"Desktop\\data.csv\")\n",
    "x=data.head\n",
    "x\n"
   ]
  },
  {
   "cell_type": "code",
   "execution_count": 22,
   "metadata": {},
   "outputs": [
    {
     "data": {
      "text/plain": [
       "'2019-08-02T03:00:00Z'"
      ]
     },
     "execution_count": 22,
     "metadata": {},
     "output_type": "execute_result"
    }
   ],
   "source": [
    "data.iloc[0,0]#.characters(11,13)"
   ]
  },
  {
   "cell_type": "code",
   "execution_count": 19,
   "metadata": {},
   "outputs": [
    {
     "name": "stdout",
     "output_type": "stream",
     "text": [
      "true\n"
     ]
    }
   ],
   "source": [
    "str=data.iloc[0,0]\n",
    "if(str[11:13]=='03'):\n",
    "    print('true')"
   ]
  },
  {
   "cell_type": "code",
   "execution_count": 34,
   "metadata": {},
   "outputs": [
    {
     "ename": "TypeError",
     "evalue": "'int' object is not callable",
     "output_type": "error",
     "traceback": [
      "\u001b[1;31m---------------------------------------------------------------------------\u001b[0m",
      "\u001b[1;31mTypeError\u001b[0m                                 Traceback (most recent call last)",
      "\u001b[1;32m<ipython-input-34-c09aca41a5da>\u001b[0m in \u001b[0;36m<module>\u001b[1;34m\u001b[0m\n\u001b[1;32m----> 1\u001b[1;33m \u001b[0mtotal\u001b[0m\u001b[1;33m=\u001b[0m\u001b[0mlen\u001b[0m\u001b[1;33m(\u001b[0m\u001b[0mdata\u001b[0m\u001b[1;33m)\u001b[0m\u001b[1;33m\u001b[0m\u001b[1;33m\u001b[0m\u001b[0m\n\u001b[0m\u001b[0;32m      2\u001b[0m \u001b[0mtotal\u001b[0m\u001b[1;33m\u001b[0m\u001b[1;33m\u001b[0m\u001b[0m\n",
      "\u001b[1;31mTypeError\u001b[0m: 'int' object is not callable"
     ]
    }
   ],
   "source": [
    "total=len(data)\n",
    "total"
   ]
  },
  {
   "cell_type": "code",
   "execution_count": 35,
   "metadata": {},
   "outputs": [
    {
     "ename": "TypeError",
     "evalue": "'int' object is not callable",
     "output_type": "error",
     "traceback": [
      "\u001b[1;31m---------------------------------------------------------------------------\u001b[0m",
      "\u001b[1;31mTypeError\u001b[0m                                 Traceback (most recent call last)",
      "\u001b[1;32m<ipython-input-35-81a7ad902616>\u001b[0m in \u001b[0;36m<module>\u001b[1;34m\u001b[0m\n\u001b[1;32m----> 1\u001b[1;33m \u001b[0ma\u001b[0m\u001b[1;33m=\u001b[0m\u001b[0mlen\u001b[0m\u001b[1;33m(\u001b[0m\u001b[0mdata\u001b[0m\u001b[1;33m)\u001b[0m\u001b[1;33m\u001b[0m\u001b[1;33m\u001b[0m\u001b[0m\n\u001b[0m\u001b[0;32m      2\u001b[0m \u001b[0mprint\u001b[0m\u001b[1;33m(\u001b[0m\u001b[0ma\u001b[0m\u001b[1;33m)\u001b[0m\u001b[1;33m\u001b[0m\u001b[1;33m\u001b[0m\u001b[0m\n",
      "\u001b[1;31mTypeError\u001b[0m: 'int' object is not callable"
     ]
    }
   ],
   "source": [
    "a=len(data)\n",
    "print(a)"
   ]
  },
  {
   "cell_type": "code",
   "execution_count": 27,
   "metadata": {},
   "outputs": [
    {
     "name": "stdout",
     "output_type": "stream",
     "text": [
      "69\n",
      "10982.0 11221.0\n",
      "11221.0 11426.0\n",
      "11426.0 11609.0\n",
      "405\n",
      "10318.0 10330.5\n",
      "10330.5 10351.5\n",
      "10351.5 10401.0\n",
      "1965\n",
      "8019.0 8028.5\n",
      "8028.5 8033.0\n",
      "8033.0 8035.0\n",
      "2085\n",
      "9556.0 9738.5\n",
      "9738.5 9758.0\n",
      "9758.0 9765.0\n",
      "2229\n",
      "9313.5 9326.5\n",
      "9326.5 9332.0\n",
      "9332.0 9385.5\n",
      "3189\n",
      "7187.0 7188.0\n",
      "7188.0 7189.0\n",
      "7189.0 7198.0\n",
      "3309\n",
      "6611.5 6643.0\n",
      "6643.0 6647.5\n",
      "6647.5 6686.0\n",
      "3765\n",
      "7350.5 7369.5\n",
      "7369.5 7410.0\n",
      "7410.0 7546.5\n",
      "3909\n",
      "8023.5 8057.0\n",
      "8057.0 8060.0\n",
      "8060.0 8090.0\n",
      "4077\n",
      "8916.5 8976.5\n",
      "8976.5 9144.5\n",
      "9144.5 9162.5\n",
      "10\n"
     ]
    }
   ],
   "source": [
    "import pandas as pd\n",
    "data = pd.read_csv(\"Desktop\\data.csv\")\n",
    "#length = len(data)\n",
    "count=0\n",
    "for x in range(4280):\n",
    "    s=data.iloc[x,0]\n",
    "    if(s[11:13]=='00'):\n",
    "        if(data.iloc[x,1]<data.iloc[x,4] and data.iloc[x+1,1]<data.iloc[x+1,4] and data.iloc[x+2,1]<data.iloc[x+2,4]):\n",
    "            print(x)\n",
    "            print(data.iloc[x,1],end =' ')\n",
    "            print(data.iloc[x,4])\n",
    "            print(data.iloc[x+1,1],end=' ')\n",
    "            print(data.iloc[x+1,4])\n",
    "            print(data.iloc[x+2,1],end=' ')\n",
    "            print(data.iloc[x+2,4])\n",
    "            count=count+1\n",
    "print(count)            "
   ]
  },
  {
   "cell_type": "code",
   "execution_count": 32,
   "metadata": {},
   "outputs": [
    {
     "data": {
      "image/png": "[encoded data removed]",
      "text/plain": [
       "<Figure size 432x288 with 1 Axes>"
      ]
     },
     "metadata": {},
     "output_type": "display_data"
    }
   ],
   "source": [
    "import matplotlib.pyplot as plt\n",
    "label = '3 Green', 'total'\n",
    "size=[count,4280-count]\n",
    "explode=(0.1,0)\n",
    "fig1,piechart = plt.subplots()\n",
    "piechart.pie(size,explode=explode,labels=label)\n",
    "plt.show()"
   ]
  },
  {
   "cell_type": "code",
   "execution_count": 27,
   "metadata": {},
   "outputs": [
    {
     "name": "stdout",
     "output_type": "stream",
     "text": [
      "2019-10-11T00:00:00Z\n",
      "8821.5\n",
      "2019-10-15T00:00:00Z\n",
      "8420.0\n",
      "2019-10-26T00:00:00Z\n",
      "10584.5\n",
      "2019-10-28T00:00:00Z\n",
      "9944.0\n",
      "2019-11-04T00:00:00Z\n",
      "9617.0\n",
      "2019-11-11T00:00:00Z\n",
      "9075.0\n",
      "2019-11-18T00:00:00Z\n",
      "8506.5\n",
      "2019-11-29T00:00:00Z\n",
      "7870.0\n",
      "2019-12-04T00:00:00Z\n",
      "7800.0\n",
      "2019-12-09T00:00:00Z\n",
      "7689.0\n",
      "2019-12-22T00:00:00Z\n",
      "7534.0\n",
      "2019-12-23T00:00:00Z\n",
      "7697.0\n",
      "2020-01-05T00:00:00Z\n",
      "7494.0\n",
      "[6, 1, 1, 0, 2, 1, 2]\n"
     ]
    }
   ],
   "source": [
    "import pandas as pd\n",
    "data = pd.read_csv(\"Desktop\\data1d.csv\")\n",
    "day_high=[0,0,0,0,0,0,0]\n",
    "length=len(data)\n",
    "for x in range(length-7):\n",
    "    s=data.iloc[x,0]\n",
    "    date=s.split(\"T\")\n",
    "    day=pd.Timestamp(date[0])\n",
    "    #print(day.dayofweek)\n",
    "    d=s.split(\"-\")\n",
    "    #print(d[1])\n",
    "    if(day.dayofweek==0 and d[1]>='10' and d[1]<='12' and d[0]=='2019' ):\n",
    "        high=0\n",
    "        for i in range(7):\n",
    "            if(high<data.iloc[x+i,2]):\n",
    "                high=data.iloc[x+i,2]\n",
    "                r=x+i\n",
    "        print(data.iloc[r,0])\n",
    "        print(data.iloc[r,2])\n",
    "        s1=data.iloc[r,0]\n",
    "        date1=s1.split(\"T\")\n",
    "        day1=pd.Timestamp(date1[0])\n",
    "        day_high[day1.dayofweek]=day_high[day1.dayofweek]+1\n",
    "print(day_high)\n",
    "   "
   ]
  },
  {
   "cell_type": "code",
   "execution_count": 3,
   "metadata": {
    "scrolled": true
   },
   "outputs": [
    {
     "data": {
      "image/png": "[encoded data removed]",
      "text/plain": [
       "<Figure size 432x288 with 1 Axes>"
      ]
     },
     "metadata": {
      "needs_background": "light"
     },
     "output_type": "display_data"
    }
   ],
   "source": [
    "import matplotlib.pyplot as plt\n",
    "fig = plt.figure()\n",
    "#ax = fig.add_axes([0,0,1,1])\n",
    "labels = ['Mon', 'Tue', 'Wed', 'Thu', 'Fri','Sat','Sun']\n",
    "#students = [23,17,35,29,12]\n",
    "plt.bar(labels,day_high)\n",
    "plt.show()"
   ]
  },
  {
   "cell_type": "code",
   "execution_count": 13,
   "metadata": {},
   "outputs": [
    {
     "name": "stdout",
     "output_type": "stream",
     "text": [
      "[8, 3, 4, 13, 5, 0, 2]\n"
     ]
    }
   ],
   "source": [
    "import pandas as pd\n",
    "data = pd.read_csv(\"Desktop\\data1d.csv\")\n",
    "day_low=[0,0,0,0,0,0,0]\n",
    "length=len(data)\n",
    "for x in range(length-7):\n",
    "    s=data.iloc[x,0]\n",
    "    date=s.split(\"T\")\n",
    "    day=pd.Timestamp(date[0])\n",
    "    #print(day.dayofweek)\n",
    "    d=s.split(\"-\")\n",
    "    #print(d[0])\n",
    "    if(day.dayofweek==0 and d[2]>='10' and d[1]<='12' and d[0]=='2019' ): #and d[0]=='2019' ):\n",
    "        low=100000\n",
    "        for i in range(7):\n",
    "            if(low>data.iloc[x+i,3]):\n",
    "                low=data.iloc[x+i,3]\n",
    "                r=x+i\n",
    "        #print(data.iloc[r,0])\n",
    "       #print(data.iloc[r,3])\n",
    "        s1=data.iloc[r,0]\n",
    "        date1=s1.split(\"T\")\n",
    "        day1=pd.Timestamp(date1[0])\n",
    "        day_low[day1.dayofweek]=day_low[day1.dayofweek]+1\n",
    "print(day_low)"
   ]
  },
  {
   "cell_type": "code",
   "execution_count": 32,
   "metadata": {},
   "outputs": [
    {
     "data": {
      "image/png": "[encoded data removed]",
      "text/plain": [
       "<Figure size 432x288 with 1 Axes>"
      ]
     },
     "metadata": {
      "needs_background": "light"
     },
     "output_type": "display_data"
    }
   ],
   "source": [
    "q1=[8,3,5,4,4,9,8]\n",
    "q2=[7,6,3,6,2,5,10]\n",
    "q3=[11,5,4,4,7,5,4]\n",
    "q4=[14,1,5,3,4,2,11]\n",
    "labels = ['Mon', 'Tue', 'Wed', 'Thu', 'Fri','Sat','Sun']\n",
    "q11=plt.bar(labels,q4)\n",
    "#q21=plt.bar(labels,q2)\n",
    "plt.show()"
   ]
  },
  {
   "cell_type": "code",
   "execution_count": 60,
   "metadata": {},
   "outputs": [
    {
     "data": {
      "image/png": "[encoded data removed]",
      "text/plain": [
       "<Figure size 432x288 with 1 Axes>"
      ]
     },
     "metadata": {
      "needs_background": "light"
     },
     "output_type": "display_data"
    }
   ],
   "source": [
    "q1=[13,6,3,6,5,3,5]\n",
    "q2=[12,8,1,6,5,3,4]\n",
    "q3=[13,7,4,6,2,3,5]\n",
    "q4=[12,2,7,5,8,3,3]\n",
    "labels = ['Mon', 'Tue', 'Wed', 'Thu', 'Fri','Sat','Sun']\n",
    "q11=plt.bar(labels,q4)\n",
    "#q21=plt.bar(labels,q2)\n",
    "plt.show()"
   ]
  },
  {
   "cell_type": "code",
   "execution_count": 100,
   "metadata": {},
   "outputs": [
    {
     "name": "stdout",
     "output_type": "stream",
     "text": [
      "profit= 10.777145951800705\n",
      "open= 3693.0\n",
      "close= 4091.0\n"
     ]
    }
   ],
   "source": [
    "length=len(data)\n",
    "global open\n",
    "global close\n",
    "for x in range(length):\n",
    "    s=data.iloc[x,0]\n",
    "    s1=s.split(\"T\")\n",
    "    d=s1[0].split(\"-\")\n",
    "    if(d[0]=='2019' and d[1]=='01' and d[2]=='01'):\n",
    "        open = data.iloc[x,1]\n",
    "    if(d[0]=='2019' and d[1]=='03' and d[2]=='31'):\n",
    "         close=data.iloc[x,4]\n",
    "if(close>=open):\n",
    "    profit=close-open\n",
    "    pp=(profit/open)*100\n",
    "    print(\"profit=\",pp)\n",
    "else:\n",
    "    loss=open-close\n",
    "    lp=(loss/open)*100\n",
    "    print(\"loss=\",lp)\n",
    "print(\"open=\",open)\n",
    "print(\"close=\",close)"
   ]
  },
  {
   "cell_type": "code",
   "execution_count": 63,
   "metadata": {},
   "outputs": [
    {
     "ename": "IndentationError",
     "evalue": "unindent does not match any outer indentation level (<tokenize>, line 3)",
     "output_type": "error",
     "traceback": [
      "\u001b[1;36m  File \u001b[1;32m\"<tokenize>\"\u001b[1;36m, line \u001b[1;32m3\u001b[0m\n\u001b[1;33m    if(d[0]=='2017' and d[1]=='03' and d[2]=='31'):\u001b[0m\n\u001b[1;37m    ^\u001b[0m\n\u001b[1;31mIndentationError\u001b[0m\u001b[1;31m:\u001b[0m unindent does not match any outer indentation level\n"
     ]
    }
   ],
   "source": []
  },
  {
   "cell_type": "code",
   "execution_count": 1,
   "metadata": {},
   "outputs": [
    {
     "name": "stdout",
     "output_type": "stream",
     "text": [
      "hello world\n"
     ]
    }
   ],
   "source": [
    "print(\"hello world\")"
   ]
  },
  {
   "cell_type": "code",
   "execution_count": 15,
   "metadata": {},
   "outputs": [
    {
     "name": "stdout",
     "output_type": "stream",
     "text": [
      "[53, 12, 12, 24, 22, 38]\n"
     ]
    }
   ],
   "source": [
    "import pandas as pd\n",
    "data4=pd.read_csv(\"Desktop\\data4hr.csv\")\n",
    "h4_high=[0,0,0,0,0,0]\n",
    "length=len(data4)\n",
    "for x in range(length-6):\n",
    "    s=data4.iloc[x,0]\n",
    "    date=s.split(\"T\")\n",
    "    d=s.split(\"-\")\n",
    "    #print(date[1])\n",
    "    day=pd.Timestamp(date[0])\n",
    "    if(day.dayofweek==0 and d[0]>='2017'):\n",
    "        time=date[1].split(\":\")\n",
    "        #print(time[0])\n",
    "        if(time[0]=='00'):\n",
    "            high=0\n",
    "            for i in range(6):\n",
    "                if(high<data4.iloc[x+i,2]):\n",
    "                    high=data4.iloc[x+i,2]\n",
    "                    r=x+i\n",
    "            \n",
    "            s1=data4.iloc[r,0]\n",
    "            date1=s1.split(\"T\")\n",
    "            time1=date1[1].split(\":\")\n",
    "            if(time1[0]=='00'):\n",
    "                h4_high[0]=h4_high[0]+1\n",
    "            if(time1[0]=='04'):\n",
    "                h4_high[1]=h4_high[1]+1\n",
    "            if(time1[0]=='08'):\n",
    "                h4_high[2]=h4_high[2]+1\n",
    "            if(time1[0]=='12'):\n",
    "                h4_high[3]=h4_high[3]+1\n",
    "            if(time1[0]=='16'):\n",
    "                h4_high[4]=h4_high[4]+1\n",
    "            if(time1[0]=='20'):\n",
    "                h4_high[5]=h4_high[5]+1\n",
    "print(h4_high)    "
   ]
  },
  {
   "cell_type": "code",
   "execution_count": 1,
   "metadata": {},
   "outputs": [
    {
     "name": "stdout",
     "output_type": "stream",
     "text": [
      "0\n",
      "2\n",
      "4\n"
     ]
    }
   ],
   "source": [
    "for i in range(0,6,2):\n",
    "    print(i)\n",
    "    "
   ]
  },
  {
   "cell_type": "code",
   "execution_count": null,
   "metadata": {},
   "outputs": [],
   "source": []
  }
 ],
 "metadata": {
  "kernelspec": {
   "display_name": "Python 3",
   "language": "python",
   "name": "python3"
  },
  "language_info": {
   "codemirror_mode": {
    "name": "ipython",
    "version": 3
   },
   "file_extension": ".py",
   "mimetype": "text/x-python",
   "name": "python",
   "nbconvert_exporter": "python",
   "pygments_lexer": "ipython3",
   "version": "3.7.4"
  }
 },
 "nbformat": 4,
 "nbformat_minor": 2
}
