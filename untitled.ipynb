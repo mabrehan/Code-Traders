{
  "nbformat": 4,
  "nbformat_minor": 0,
  "metadata": {
    "colab": {
      "name": ".ipynb",
      "provenance": [],
      "authorship_tag": "ABX9TyNYVz0cn7KBAJB4yb6WAhLK",
      "include_colab_link": true
    },
    "kernelspec": {
      "name": "python3",
      "display_name": "Python 3"
    }
  },
  "cells": [
    {
      "cell_type": "markdown",
      "metadata": {
        "id": "view-in-github",
        "colab_type": "text"
      },
      "source": [
        "<a href=\"https://colab.research.google.com/github/mabrehan/Code-Traders/blob/master/untitled.ipynb\" target=\"_parent\"><img src=\"https://colab.research.google.com/assets/colab-badge.svg\" alt=\"Open In Colab\"/></a>"
      ]
    },
    {
      "cell_type": "code",
      "metadata": {
        "id": "1cCnWuUNUgzP",
        "colab_type": "code",
        "colab": {
          "base_uri": "https://localhost:8080/",
          "height": 34
        },
        "outputId": "52f4fe43-7491-4c67-f1ec-08cc08e6dbe7"
      },
      "source": [
        "#5:30 candle - 3% and then 5:30 close to daily close - 3%\n",
        "\n",
        "import pandas as pd\n",
        "data0=pd.read_csv(\"https://raw.githubusercontent.com/aak-dev/data/master/11.csv\")\n",
        "p=0.03\n",
        "count=0\n",
        "length=len(data0)\n",
        "for x in range(length-11):\n",
        "    s=data0.iloc[x,0] \n",
        "    date=s.split(\" \")\n",
        "    d=date[0].split(\"-\")\n",
        "    if(d[0]>='2017' ):\n",
        "        time=date[1].split(\":\")\n",
        "        if(time[0]=='13'):\n",
        "            o=data0.iloc[x,2]\n",
        "            c=data0.iloc[x+3,5]\n",
        "            if((c-o)/o>=p):\n",
        "                o1=data0.iloc[x+3,5]\n",
        "                c1=data0.iloc[x+11,5]\n",
        "                if((c1-o1)/o1>=p):\n",
        "                    #print(x)\n",
        "                    #print(data0.iloc[x,2])\n",
        "                    #print(data0.iloc[x+3,2])\n",
        "                    #print(data0.iloc[x+11,2])\n",
        "                    count=count+1\n",
        "print(count)"
      ],
      "execution_count": 3,
      "outputs": [
        {
          "output_type": "stream",
          "text": [
            "7\n"
          ],
          "name": "stdout"
        }
      ]
    },
    {
      "cell_type": "code",
      "metadata": {
        "id": "Qg_y4ayYUj0P",
        "colab_type": "code",
        "colab": {}
      },
      "source": [
        ""
      ],
      "execution_count": 0,
      "outputs": []
    }
  ]
}